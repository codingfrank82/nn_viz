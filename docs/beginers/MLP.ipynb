{
 "cells": [
  {
   "cell_type": "markdown",
   "source": [
    "# MLP as Universal Approximator\n",
    "\n",
    "- **Universal Approximation theorem**\n",
    "    - A multi-layer perceptron can be used to approximate any function."
   ],
   "metadata": {
    "collapsed": false
   }
  },
  {
   "cell_type": "markdown",
   "source": [
    "## Activation Functions"
   ],
   "metadata": {
    "collapsed": false
   }
  },
  {
   "cell_type": "markdown",
   "source": [
    "### Sigmoid\n",
    "\n",
    "$$\n",
    "\\text{Sigmoid}(x) = \\sigma(x) = \\frac{1}{1 + \\exp(-x)}\n",
    "$$"
   ],
   "metadata": {
    "collapsed": false
   }
  },
  {
   "cell_type": "markdown",
   "source": [
    "### ReLU\n",
    "\n",
    "- The Rectified Linear Unit function\n",
    "\n",
    "$$\n",
    "\\text{ReLU}(x) = (x)^+ = \\max(0, x)\n",
    "$$"
   ],
   "metadata": {
    "collapsed": false
   }
  },
  {
   "cell_type": "markdown",
   "source": [
    "### Tanh\n",
    "\n",
    "- Hyperbolic Tangent\n",
    "\n",
    "$$\n",
    "\\text{Tanh}(x) = \\tanh(x) = \\frac{\\exp(x) - \\exp(-x)} {\\exp(x) + \\exp(-x)}\n",
    "$$"
   ],
   "metadata": {
    "collapsed": false
   }
  },
  {
   "cell_type": "markdown",
   "source": [
    "## Experiments"
   ],
   "metadata": {
    "collapsed": false
   }
  },
  {
   "cell_type": "code",
   "execution_count": 1,
   "outputs": [],
   "source": [
    "import torch\n",
    "import torch.nn as nn\n",
    "import torch.nn.init as init\n",
    "import matplotlib.pyplot as plt\n",
    "from tqdm.notebook import tqdm\n",
    "from torchsummary import summary"
   ],
   "metadata": {
    "collapsed": false,
    "ExecuteTime": {
     "end_time": "2023-07-14T02:49:45.863621100Z",
     "start_time": "2023-07-14T02:49:36.181502200Z"
    }
   }
  },
  {
   "cell_type": "code",
   "execution_count": 2,
   "outputs": [
    {
     "name": "stdout",
     "output_type": "stream",
     "text": [
      "GPU detected: NVIDIA T400 4GB\n"
     ]
    }
   ],
   "source": [
    "if torch.cuda.is_available():\n",
    "    device = torch.device(\"cuda:0\")\n",
    "    print(f\"GPU detected: {torch.cuda.get_device_name(0)}\")\n",
    "else:\n",
    "    device = torch.device(\"cpu\")\n",
    "    print(\"No GPU detected, using CPU\")\n",
    "\n",
    "cpu_device = torch.device(\"cpu\")"
   ],
   "metadata": {
    "collapsed": false,
    "ExecuteTime": {
     "end_time": "2023-07-14T02:49:52.257469700Z",
     "start_time": "2023-07-14T02:49:52.106890600Z"
    }
   }
  },
  {
   "cell_type": "markdown",
   "source": [
    "### Objective Functions"
   ],
   "metadata": {
    "collapsed": false
   }
  },
  {
   "cell_type": "code",
   "execution_count": 3,
   "outputs": [],
   "source": [
    "def func_c(x):\n",
    "    return torch.sin(x ** 2 + 3) + torch.cos(2 * x ** 3 + 3 * x ** 2 + 2)\n",
    "\n",
    "\n",
    "def func_b(x):\n",
    "    return torch.sin(x ** 2 + 3)\n",
    "\n",
    "\n",
    "def func_a(x):\n",
    "    return 5 * x ** 2 + 3\n",
    "\n",
    "func_range = (-1, 1)\n",
    "objective_func = lambda x, device: func_c(x) + torch.normal(0, 0.01, x.shape).to(device)"
   ],
   "metadata": {
    "collapsed": false,
    "ExecuteTime": {
     "end_time": "2023-07-14T02:49:53.912875900Z",
     "start_time": "2023-07-14T02:49:53.893233100Z"
    }
   }
  },
  {
   "cell_type": "markdown",
   "source": [
    "## Function Fitting"
   ],
   "metadata": {
    "collapsed": false
   }
  },
  {
   "cell_type": "code",
   "execution_count": 4,
   "outputs": [],
   "source": [
    "def my_train(model, input_size, target_func, func_range, device, learning_rate=0.001):\n",
    "    loss_fn = nn.MSELoss()\n",
    "    # optimizer = torch.optim.SGD(model.parameters(), lr=learning_rate)\n",
    "    optimizer = torch.optim.Adam(model.parameters(), lr=learning_rate)\n",
    "\n",
    "    num_epochs = 10000\n",
    "    batch_size = 128\n",
    "\n",
    "    model.train()\n",
    "    model.to(device)\n",
    "    a = func_range[0]\n",
    "    b = func_range[1]\n",
    "\n",
    "    for epoch in tqdm(range(num_epochs), dynamic_ncols=True, desc=f'Training on {device}'):\n",
    "        optimizer.zero_grad()\n",
    "\n",
    "        xx = a + (b - a) * torch.rand(batch_size, input_size)\n",
    "        xx = xx.to(device)\n",
    "        y_pred = model(xx)\n",
    "        y = objective_func(xx, device)\n",
    "        loss = loss_fn(y_pred, y)\n",
    "\n",
    "        loss.backward()\n",
    "        optimizer.step()\n",
    "    print(f\"Loss value: {loss.item()}\")"
   ],
   "metadata": {
    "collapsed": false,
    "ExecuteTime": {
     "end_time": "2023-07-14T02:49:55.581227500Z",
     "start_time": "2023-07-14T02:49:55.573375500Z"
    }
   }
  },
  {
   "cell_type": "code",
   "execution_count": 5,
   "outputs": [],
   "source": [
    "def xavier_init(model):\n",
    "    for layer in model.modules():\n",
    "        if isinstance(layer, nn.Linear):\n",
    "            init.xavier_normal_(layer.weight)"
   ],
   "metadata": {
    "collapsed": false,
    "ExecuteTime": {
     "end_time": "2023-07-14T02:49:56.306331100Z",
     "start_time": "2023-07-14T02:49:56.281103400Z"
    }
   }
  },
  {
   "cell_type": "code",
   "execution_count": 6,
   "outputs": [],
   "source": [
    "input_size = 1\n",
    "hidden_size = 1024\n",
    "output_size = 1"
   ],
   "metadata": {
    "collapsed": false,
    "ExecuteTime": {
     "end_time": "2023-07-14T02:49:57.098806700Z",
     "start_time": "2023-07-14T02:49:57.073402Z"
    }
   }
  },
  {
   "cell_type": "markdown",
   "source": [
    "## Shallow Network"
   ],
   "metadata": {
    "collapsed": false
   }
  },
  {
   "cell_type": "code",
   "execution_count": 7,
   "outputs": [
    {
     "name": "stdout",
     "output_type": "stream",
     "text": [
      "----------------------------------------------------------------\n",
      "        Layer (type)               Output Shape         Param #\n",
      "================================================================\n",
      "            Linear-1                 [-1, 1024]           2,048\n",
      "              ReLU-2                 [-1, 1024]               0\n",
      "            Linear-3                    [-1, 1]           1,025\n",
      "================================================================\n",
      "Total params: 3,073\n",
      "Trainable params: 3,073\n",
      "Non-trainable params: 0\n",
      "----------------------------------------------------------------\n",
      "Input size (MB): 0.00\n",
      "Forward/backward pass size (MB): 0.02\n",
      "Params size (MB): 0.01\n",
      "Estimated Total Size (MB): 0.03\n",
      "----------------------------------------------------------------\n"
     ]
    }
   ],
   "source": [
    "shallow_network = torch.nn.Sequential(\n",
    "    nn.Linear(input_size, hidden_size),\n",
    "    nn.ReLU(),\n",
    "    nn.Linear(hidden_size, output_size)\n",
    ")\n",
    "shallow_network.to(device)\n",
    "shallow_network.apply(xavier_init)\n",
    "\n",
    "summary(shallow_network, input_size=(1,))"
   ],
   "metadata": {
    "collapsed": false,
    "ExecuteTime": {
     "end_time": "2023-07-14T02:50:00.091690900Z",
     "start_time": "2023-07-14T02:49:58.588303200Z"
    }
   }
  },
  {
   "cell_type": "code",
   "execution_count": 8,
   "outputs": [
    {
     "data": {
      "text/plain": "Training on cuda:0:   0%|          | 0/10000 [00:00<?, ?it/s]",
      "application/vnd.jupyter.widget-view+json": {
       "version_major": 2,
       "version_minor": 0,
       "model_id": "b76ede3ff32940e896577f6b34995ebd"
      }
     },
     "metadata": {},
     "output_type": "display_data"
    },
    {
     "name": "stdout",
     "output_type": "stream",
     "text": [
      "Loss value: 0.007621679455041885\n",
      "done.\n"
     ]
    }
   ],
   "source": [
    "my_train(shallow_network, input_size, objective_func, func_range, device)\n",
    "print('done.')"
   ],
   "metadata": {
    "collapsed": false,
    "ExecuteTime": {
     "end_time": "2023-07-14T02:50:13.445598200Z",
     "start_time": "2023-07-14T02:50:00.093704800Z"
    }
   }
  },
  {
   "cell_type": "markdown",
   "source": [
    "### Visualization"
   ],
   "metadata": {
    "collapsed": false
   }
  },
  {
   "cell_type": "code",
   "execution_count": 9,
   "outputs": [],
   "source": [
    "def plot_function_fit(obj_func, models, func_range, device):\n",
    "    \"\"\"\n",
    "    plot the function fitting result\n",
    "    :param obj_func: Objection Function\n",
    "    :param models: NN Model\n",
    "    :param func_range: function range\n",
    "    :param device: GPU or CPU\n",
    "    \"\"\"\n",
    "\n",
    "    data_x = torch.linspace(func_range[0], func_range[1], 100).unsqueeze(1)\n",
    "    data_y = obj_func(data_x, cpu_device)\n",
    "\n",
    "    pred_x = torch.linspace(func_range[0], func_range[1], 200).unsqueeze(1)\n",
    "\n",
    "    plt.figure(figsize=(8, 8))\n",
    "    plt.scatter(data_x, data_y, label=\"Data\", c='yellow')\n",
    "\n",
    "    for model in models:\n",
    "        pred_y = model(pred_x.to(device))\n",
    "        plt.plot(pred_x, pred_y.detach().cpu().numpy(), label=type(model).__name__)\n",
    "\n",
    "    plt.grid()\n",
    "    plt.legend()\n",
    "    plt.show()\n"
   ],
   "metadata": {
    "collapsed": false,
    "ExecuteTime": {
     "end_time": "2023-07-14T02:50:15.068429800Z",
     "start_time": "2023-07-14T02:50:15.045907800Z"
    }
   }
  },
  {
   "cell_type": "code",
   "execution_count": 10,
   "outputs": [
    {
     "data": {
      "text/plain": "<Figure size 800x800 with 1 Axes>",
      "image/png": "[encoded data removed]"
     },
     "metadata": {},
     "output_type": "display_data"
    }
   ],
   "source": [
    "shallow_network.eval()\n",
    "plot_function_fit(objective_func, [shallow_network], func_range, device)"
   ],
   "metadata": {
    "collapsed": false,
    "ExecuteTime": {
     "end_time": "2023-07-14T02:50:17.488644400Z",
     "start_time": "2023-07-14T02:50:17.274856700Z"
    }
   }
  },
  {
   "cell_type": "markdown",
   "source": [
    "## MLP\n"
   ],
   "metadata": {
    "collapsed": false
   }
  },
  {
   "cell_type": "code",
   "execution_count": 11,
   "outputs": [],
   "source": [
    "class MyMLP(nn.Module):\n",
    "    def __init__(self, input_size, hidden_layers, hidden_size, output_size):\n",
    "        super(MyMLP, self).__init__()\n",
    "\n",
    "        # Input layer\n",
    "        self.layers = [nn.Linear(input_size, hidden_size), nn.ReLU()]\n",
    "\n",
    "        # Hidden layers\n",
    "        for _ in range(hidden_layers - 1):\n",
    "            self.layers.extend([nn.Linear(hidden_size, hidden_size), nn.ReLU()])\n",
    "\n",
    "        # Output layer\n",
    "        self.layers.append(nn.Linear(hidden_size, output_size))\n",
    "\n",
    "        self.model = nn.Sequential(*self.layers)\n",
    "\n",
    "    def forward(self, x):\n",
    "        return self.model(x)\n"
   ],
   "metadata": {
    "collapsed": false,
    "ExecuteTime": {
     "end_time": "2023-07-14T02:50:18.880870400Z",
     "start_time": "2023-07-14T02:50:18.866225600Z"
    }
   }
  },
  {
   "cell_type": "code",
   "execution_count": 12,
   "outputs": [
    {
     "name": "stdout",
     "output_type": "stream",
     "text": [
      "----------------------------------------------------------------\n",
      "        Layer (type)               Output Shape         Param #\n",
      "================================================================\n",
      "            Linear-1                   [-1, 16]              32\n",
      "              ReLU-2                   [-1, 16]               0\n",
      "            Linear-3                   [-1, 16]             272\n",
      "              ReLU-4                   [-1, 16]               0\n",
      "            Linear-5                   [-1, 16]             272\n",
      "              ReLU-6                   [-1, 16]               0\n",
      "            Linear-7                   [-1, 16]             272\n",
      "              ReLU-8                   [-1, 16]               0\n",
      "            Linear-9                   [-1, 16]             272\n",
      "             ReLU-10                   [-1, 16]               0\n",
      "           Linear-11                   [-1, 16]             272\n",
      "             ReLU-12                   [-1, 16]               0\n",
      "           Linear-13                   [-1, 16]             272\n",
      "             ReLU-14                   [-1, 16]               0\n",
      "           Linear-15                   [-1, 16]             272\n",
      "             ReLU-16                   [-1, 16]               0\n",
      "           Linear-17                    [-1, 1]              17\n",
      "================================================================\n",
      "Total params: 1,953\n",
      "Trainable params: 1,953\n",
      "Non-trainable params: 0\n",
      "----------------------------------------------------------------\n",
      "Input size (MB): 0.00\n",
      "Forward/backward pass size (MB): 0.00\n",
      "Params size (MB): 0.01\n",
      "Estimated Total Size (MB): 0.01\n",
      "----------------------------------------------------------------\n"
     ]
    }
   ],
   "source": [
    "mlp = MyMLP(input_size, 8, 16, output_size)\n",
    "mlp.apply(xavier_init)\n",
    "mlp.to(device)\n",
    "\n",
    "summary(mlp, input_size=(1,))"
   ],
   "metadata": {
    "collapsed": false,
    "ExecuteTime": {
     "end_time": "2023-07-14T02:50:19.475860700Z",
     "start_time": "2023-07-14T02:50:19.416000300Z"
    }
   }
  },
  {
   "cell_type": "code",
   "execution_count": 13,
   "outputs": [
    {
     "data": {
      "text/plain": "Training on cuda:0:   0%|          | 0/10000 [00:00<?, ?it/s]",
      "application/vnd.jupyter.widget-view+json": {
       "version_major": 2,
       "version_minor": 0,
       "model_id": "de4473624f7b46cc83fc8490ae3357c2"
      }
     },
     "metadata": {},
     "output_type": "display_data"
    },
    {
     "name": "stdout",
     "output_type": "stream",
     "text": [
      "Loss value: 0.00036084422026760876\n"
     ]
    }
   ],
   "source": [
    "my_train(mlp, input_size, objective_func, func_range, device)"
   ],
   "metadata": {
    "collapsed": false,
    "ExecuteTime": {
     "end_time": "2023-07-14T02:50:45.353887700Z",
     "start_time": "2023-07-14T02:50:19.975883900Z"
    }
   }
  },
  {
   "cell_type": "code",
   "execution_count": 14,
   "outputs": [
    {
     "data": {
      "text/plain": "<Figure size 800x800 with 1 Axes>",
      "image/png": "[encoded data removed]"
     },
     "metadata": {},
     "output_type": "display_data"
    }
   ],
   "source": [
    "mlp.eval()\n",
    "plot_function_fit(objective_func, [mlp, shallow_network], func_range, device)"
   ],
   "metadata": {
    "collapsed": false,
    "ExecuteTime": {
     "end_time": "2023-07-14T02:50:45.512861Z",
     "start_time": "2023-07-14T02:50:45.354903600Z"
    }
   }
  },
  {
   "cell_type": "markdown",
   "source": [
    "## High Dimension Functions"
   ],
   "metadata": {
    "collapsed": false
   }
  },
  {
   "cell_type": "code",
   "execution_count": 15,
   "outputs": [],
   "source": [
    "input_size = 16\n",
    "output_size = 16\n",
    "\n",
    "func_range_m = [\n",
    "    torch.ones(input_size)*-1,\n",
    "    torch.ones(input_size)\n",
    "]\n"
   ],
   "metadata": {
    "collapsed": false,
    "ExecuteTime": {
     "end_time": "2023-07-14T02:50:45.590614700Z",
     "start_time": "2023-07-14T02:50:45.512861Z"
    }
   }
  },
  {
   "cell_type": "code",
   "execution_count": 16,
   "outputs": [
    {
     "data": {
      "text/plain": "Training on cuda:0:   0%|          | 0/10000 [00:00<?, ?it/s]",
      "application/vnd.jupyter.widget-view+json": {
       "version_major": 2,
       "version_minor": 0,
       "model_id": "6925456084d44f9eb00b408dd5f5998d"
      }
     },
     "metadata": {},
     "output_type": "display_data"
    },
    {
     "name": "stdout",
     "output_type": "stream",
     "text": [
      "Loss value: 0.009449731558561325\n"
     ]
    }
   ],
   "source": [
    "mlp = MyMLP(input_size, 8, 256, output_size)\n",
    "mlp.apply(xavier_init)\n",
    "my_train(mlp, input_size, objective_func, func_range_m, device, 1e-4)"
   ],
   "metadata": {
    "collapsed": false,
    "ExecuteTime": {
     "end_time": "2023-07-14T02:51:13.955042100Z",
     "start_time": "2023-07-14T02:50:45.530911100Z"
    }
   }
  },
  {
   "cell_type": "code",
   "execution_count": 17,
   "outputs": [
    {
     "data": {
      "text/plain": "Training on cuda:0:   0%|          | 0/10000 [00:00<?, ?it/s]",
      "application/vnd.jupyter.widget-view+json": {
       "version_major": 2,
       "version_minor": 0,
       "model_id": "77397261b4e54742a9afccb9b0591ee2"
      }
     },
     "metadata": {},
     "output_type": "display_data"
    },
    {
     "name": "stdout",
     "output_type": "stream",
     "text": [
      "Loss value: 0.004353749565780163\n"
     ]
    }
   ],
   "source": [
    "shallow_network = torch.nn.Sequential(\n",
    "    nn.Linear(input_size, hidden_size),\n",
    "    nn.ReLU(),\n",
    "    nn.Linear(hidden_size, output_size)\n",
    ")\n",
    "shallow_network.apply(xavier_init)\n",
    "\n",
    "my_train(shallow_network, input_size, objective_func, func_range, device)"
   ],
   "metadata": {
    "collapsed": false,
    "ExecuteTime": {
     "end_time": "2023-07-14T02:51:25.327327600Z",
     "start_time": "2023-07-14T02:51:13.957042700Z"
    }
   }
  },
  {
   "cell_type": "code",
   "execution_count": null,
   "outputs": [],
   "source": [],
   "metadata": {
    "collapsed": false
   }
  }
 ],
 "metadata": {
  "kernelspec": {
   "display_name": "Python 3",
   "language": "python",
   "name": "python3"
  },
  "language_info": {
   "codemirror_mode": {
    "name": "ipython",
    "version": 2
   },
   "file_extension": ".py",
   "mimetype": "text/x-python",
   "name": "python",
   "nbconvert_exporter": "python",
   "pygments_lexer": "ipython2",
   "version": "2.7.6"
  }
 },
 "nbformat": 4,
 "nbformat_minor": 0
}
